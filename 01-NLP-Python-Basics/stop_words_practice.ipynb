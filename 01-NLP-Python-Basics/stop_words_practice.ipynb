{
 "cells": [
  {
   "cell_type": "code",
   "execution_count": 1,
   "id": "a33bbfba",
   "metadata": {},
   "outputs": [],
   "source": [
    "import spacy"
   ]
  },
  {
   "cell_type": "code",
   "execution_count": 2,
   "id": "3aafc036",
   "metadata": {},
   "outputs": [],
   "source": [
    "nlp = spacy.load('en_core_web_sm')"
   ]
  },
  {
   "cell_type": "code",
   "execution_count": 3,
   "id": "1b0a05f3",
   "metadata": {},
   "outputs": [
    {
     "name": "stdout",
     "output_type": "stream",
     "text": [
      "{'you', 'fifty', 'many', 'part', 'without', 'less', 'this', 'whenever', 'becoming', 'yourself', 'around', 'have', 'six', 'none', 'keep', 'should', 'that', 'therefore', 'could', 'due', 'meanwhile', 'done', 'another', 'more', 'go', 'nothing', 'off', 'is', 'the', 'why', 'yourselves', 'at', 'behind', 'to', 'afterwards', 'together', 'became', 'wherein', 'sometimes', 'made', 'twenty', 'except', 'thereafter', 'my', 'so', 'full', 'are', 'before', 'on', 'between', 'for', 'somewhere', 'besides', 'very', 'am', 'again', 'anyway', 'bottom', 'get', 'itself', 'most', 'becomes', 'nevertheless', 'top', 'anywhere', 'else', 'seem', 'sixty', 'above', 'do', 'now', 'themselves', 'own', 'namely', 'me', 'only', 'your', 'just', 'might', 'either', 'whence', 'thus', 'wherever', 'across', 'or', 'also', 'we', 'how', 'latterly', 'see', 'nowhere', 'several', 'must', 'which', 'hundred', 'move', 'eleven', 'take', 'using', 'twelve', 'us', 'whom', 'former', 'enough', 'forty', 'much', 'ten', 'via', 'did', 'make', 'all', 'whoever', 'once', 'has', 'them', 'anyone', 'not', 'over', 'per', 'may', 'hereby', 'herself', 'something', 'whereby', 'however', 'fifteen', 'thence', 'various', 'further', 'being', 'out', 'nine', 'among', 'no', 'two', 'whatever', 'while', 'nor', 'but', 'anyhow', 'some', 'someone', 'sometime', 'thereupon', 'they', 'up', 'whereupon', 'amongst', 'third', 'indeed', 'anything', 'than', 'by', 'one', 'under', 'he', 'nobody', 'everyone', 'such', 'both', 'ours', 'show', 'through', 'thru', 'therein', 'an', 'i', 'next', 'call', 'after', 'become', 'formerly', 'her', 'often', 'until', 'and', 'him', 'back', 'moreover', 'say', 'hereafter', 'too', 'had', 'alone', 'cannot', 'ourselves', 'down', 'although', 'yet', 'seems', 'a', 'unless', 'along', 'least', 'never', 'then', 'those', 'here', 'beyond', 'mine', 'always', 'she', 'thereby', 'hers', 'last', 'almost', 'rather', 'their', 'side', 'three', 'everywhere', 'same', 'upon', 'any', 'whose', 'neither', 'because', 'beside', 'during', 'otherwise', 'below', 'give', 'if', 'everything', 'into', 'of', 'hence', 'even', 'our', 'would', 'himself', 'whether', 'latter', 'four', 'regarding', 'somehow', 'these', 'still', 'first', 'name', 'does', 'been', 'already', 'when', 'will', 'it', 'there', 'was', 'what', 'amount', 'perhaps', 'though', 'really', 'can', 'from', 'against', 'be', 'myself', 'seeming', 'other', 'seemed', 'onto', 'others', 'whereafter', 'whereas', 'its', 're', 'elsewhere', 'noone', 'please', 'five', 'ca', 'towards', 'where', 'who', 'throughout', 'well', 'as', 'empty', 'each', 'every', 'doing', 'with', 'whole', 'his', 'herein', 'serious', 'about', 'few', 'eight', 'in', 'within', 'beforehand', 'mostly', 'put', 'toward', 'were', 'yours', 'hereupon', 'quite', 'front', 'since', 'whither', 'used', 'ever'}\n"
     ]
    }
   ],
   "source": [
    "print(nlp.Defaults.stop_words)"
   ]
  },
  {
   "cell_type": "code",
   "execution_count": 4,
   "id": "f9d5a3a6",
   "metadata": {},
   "outputs": [
    {
     "data": {
      "text/plain": [
       "305"
      ]
     },
     "execution_count": 4,
     "metadata": {},
     "output_type": "execute_result"
    }
   ],
   "source": [
    "len(nlp.Defaults.stop_words)"
   ]
  },
  {
   "cell_type": "code",
   "execution_count": 5,
   "id": "54c9bca1",
   "metadata": {},
   "outputs": [
    {
     "data": {
      "text/plain": [
       "True"
      ]
     },
     "execution_count": 5,
     "metadata": {},
     "output_type": "execute_result"
    }
   ],
   "source": [
    "#check stop word\n",
    "nlp.vocab['is'].is_stop"
   ]
  },
  {
   "cell_type": "code",
   "execution_count": 6,
   "id": "b5a110e2",
   "metadata": {},
   "outputs": [],
   "source": [
    "#add a stop word\n",
    "nlp.Defaults.stop_words.add('btw')\n",
    "nlp.vocab['btw'].is_stop = True"
   ]
  },
  {
   "cell_type": "code",
   "execution_count": 7,
   "id": "25c3a45f",
   "metadata": {},
   "outputs": [
    {
     "data": {
      "text/plain": [
       "306"
      ]
     },
     "execution_count": 7,
     "metadata": {},
     "output_type": "execute_result"
    }
   ],
   "source": [
    "len(nlp.Defaults.stop_words)"
   ]
  },
  {
   "cell_type": "code",
   "execution_count": 8,
   "id": "e81d0e5a",
   "metadata": {},
   "outputs": [
    {
     "data": {
      "text/plain": [
       "True"
      ]
     },
     "execution_count": 8,
     "metadata": {},
     "output_type": "execute_result"
    }
   ],
   "source": [
    "nlp.vocab['btw'].is_stop"
   ]
  },
  {
   "cell_type": "code",
   "execution_count": 10,
   "id": "64e9b00b",
   "metadata": {},
   "outputs": [],
   "source": [
    "#remove stop word\n",
    "nlp.Defaults.stop_words.remove('beyond')"
   ]
  },
  {
   "cell_type": "code",
   "execution_count": 11,
   "id": "ce6c2f03",
   "metadata": {},
   "outputs": [],
   "source": [
    "nlp.vocab['beyond'].is_stop = False"
   ]
  },
  {
   "cell_type": "code",
   "execution_count": 12,
   "id": "f493657a",
   "metadata": {},
   "outputs": [
    {
     "data": {
      "text/plain": [
       "False"
      ]
     },
     "execution_count": 12,
     "metadata": {},
     "output_type": "execute_result"
    }
   ],
   "source": [
    "nlp.vocab['beyond'].is_stop"
   ]
  },
  {
   "cell_type": "code",
   "execution_count": null,
   "id": "56fdbb55",
   "metadata": {},
   "outputs": [],
   "source": []
  }
 ],
 "metadata": {
  "kernelspec": {
   "display_name": "Python 3 (ipykernel)",
   "language": "python",
   "name": "python3"
  },
  "language_info": {
   "codemirror_mode": {
    "name": "ipython",
    "version": 3
   },
   "file_extension": ".py",
   "mimetype": "text/x-python",
   "name": "python",
   "nbconvert_exporter": "python",
   "pygments_lexer": "ipython3",
   "version": "3.7.15"
  }
 },
 "nbformat": 4,
 "nbformat_minor": 5
}
