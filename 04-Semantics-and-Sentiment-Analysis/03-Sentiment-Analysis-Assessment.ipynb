{
 "cells": [
  {
   "cell_type": "markdown",
   "metadata": {
    "collapsed": true
   },
   "source": [
    "___\n",
    "\n",
    "<a href='http://www.pieriandata.com'> <img src='../Pierian_Data_Logo.png' /></a>\n",
    "___"
   ]
  },
  {
   "cell_type": "markdown",
   "metadata": {},
   "source": [
    "# Sentiment Analysis Assessment - Solution\n",
    "\n",
    "## Task #1: Perform vector arithmetic on your own words\n",
    "Write code that evaluates vector arithmetic on your own set of related words. The goal is to come as close to an expected word as possible. Please feel free to share success stories in the Q&A Forum for this section!"
   ]
  },
  {
   "cell_type": "code",
   "execution_count": 1,
   "metadata": {},
   "outputs": [],
   "source": [
    "# Import spaCy and load the language library. Remember to use a larger model!\n",
    "\n",
    "import spacy\n",
    "nlp = spacy.load('en_core_web_lg')"
   ]
  },
  {
   "cell_type": "code",
   "execution_count": 3,
   "metadata": {},
   "outputs": [
    {
     "data": {
      "text/plain": [
       "array([-5.8214e-01, -3.7531e-01,  9.3002e-02, -5.6019e-02, -2.0646e-01,\n",
       "        5.2866e-01, -2.3200e-02, -7.9549e-03, -3.8128e-01,  1.3510e+00,\n",
       "       -4.4073e-01, -4.3873e-01, -7.8895e-01, -3.2017e-01, -1.4244e-01,\n",
       "        2.9340e-01,  2.1495e-03,  2.8367e-01, -2.2433e-01, -9.0427e-02,\n",
       "        7.6415e-02, -2.0616e-01,  2.1168e-01, -6.0068e-01, -5.5763e-01,\n",
       "        3.5608e-01, -5.6206e-01,  4.2384e-02, -2.2162e-01, -8.4990e-02,\n",
       "       -3.4798e-01,  1.4591e-01,  1.2034e-01, -2.8792e-01,  3.5491e-01,\n",
       "       -1.4915e-02,  3.8207e-01, -2.3839e-01, -6.4696e-01,  1.0578e-01,\n",
       "       -1.1090e-01,  3.8080e-01, -1.7222e-01, -2.0274e-01,  3.1014e-01,\n",
       "       -4.1004e-02, -1.2891e-01,  1.1943e-02,  2.0365e-01, -1.2710e-01,\n",
       "       -2.5556e-01,  3.5480e-01, -3.3519e-01,  6.9451e-03, -5.1215e-01,\n",
       "        2.7718e-01, -1.6672e-01,  6.5627e-01,  1.8226e-03,  1.3172e-01,\n",
       "        1.4236e-01,  4.2622e-03,  1.6318e-01, -2.9346e-01, -3.8381e-01,\n",
       "       -2.9963e-01, -3.7410e-01, -6.8145e-02,  1.9704e-01, -5.2388e-01,\n",
       "        1.6978e-01, -2.0005e-01, -7.9911e-03, -4.4849e-01, -1.0282e-01,\n",
       "        1.7332e-01, -2.5781e-01, -1.0849e-01,  3.5858e-01, -3.6033e-01,\n",
       "       -6.6681e-02, -5.5769e-02,  4.8390e-01,  2.0502e-01,  6.1342e-01,\n",
       "       -3.2273e-01,  8.5212e-01,  8.4714e-02,  4.7451e-01,  7.0941e-02,\n",
       "        7.0918e-02, -2.1959e-01,  1.5763e-01, -8.2242e-01, -9.0662e-02,\n",
       "       -4.7864e-01, -3.6493e-01, -1.0280e-01,  1.3589e-02,  1.9022e-01,\n",
       "       -8.0784e-03,  3.5041e-01,  8.9194e-02,  1.5677e-01, -2.8583e-02,\n",
       "       -9.1212e-01,  1.1633e-01, -2.4069e-02, -2.8169e-01,  1.4103e-01,\n",
       "        4.6184e-01,  2.4943e-01,  2.3923e-01, -9.8423e-01,  1.5503e-01,\n",
       "        4.1559e-01,  4.4129e-01,  9.1058e-02,  1.2995e-02,  5.6781e-01,\n",
       "        1.1500e-01, -8.9603e-02,  7.0009e-01, -3.0268e-01, -4.0478e-01,\n",
       "        1.2211e-01, -1.3202e-01,  1.6706e-01, -8.6921e-01,  3.5257e-02,\n",
       "       -1.6682e-01, -5.1394e-01,  1.2706e-01,  1.0609e-01, -9.8691e-02,\n",
       "       -1.6359e-02, -6.5712e-01, -4.8149e-01,  7.8062e-01, -2.1114e-02,\n",
       "       -2.6057e+00, -1.4443e-01, -7.7656e-02,  1.6999e-01,  3.6992e-01,\n",
       "        1.8890e-01, -1.2682e-01,  2.0867e-01, -6.7743e-02, -4.9042e-01,\n",
       "       -4.6862e-01, -8.4596e-02, -1.4296e-01,  2.1227e-01,  4.2089e-01,\n",
       "        3.6828e-01, -2.7270e-01,  1.6565e-01,  1.0964e-01,  6.1397e-01,\n",
       "        5.3284e-01, -1.6525e-01, -7.9274e-01, -2.6653e-01,  2.3865e-01,\n",
       "        3.9841e-01, -4.0277e-01, -5.2708e-01, -2.6175e-01, -6.0906e-01,\n",
       "        8.9596e-02,  5.1620e-02, -1.8851e-01,  2.6459e-01, -1.5915e-01,\n",
       "        3.8190e-01,  9.1760e-01, -2.6314e-01,  4.3057e-02,  2.6773e-01,\n",
       "       -3.3211e-02, -3.2734e-01,  2.5675e-01,  7.5940e-02, -4.4916e-01,\n",
       "        3.9925e-01, -4.9276e-02,  3.2243e-02, -6.8110e-04, -2.0187e-01,\n",
       "       -8.9813e-02,  5.4332e-02, -1.2104e-01, -2.4216e-01,  5.9268e-01,\n",
       "        5.9656e-01,  2.1449e-01, -1.9836e-01,  1.9547e-01,  1.7180e-02,\n",
       "       -4.6626e-01,  4.4921e-01, -5.4788e-01,  7.0023e-02, -1.5496e-01,\n",
       "        8.9094e-02,  1.9167e-01, -2.2187e-02, -1.6390e-01, -4.5218e-01,\n",
       "        3.2617e-01,  1.4345e-01,  1.4321e-01,  2.7552e-01,  1.6285e-01,\n",
       "       -4.6431e-01, -3.8000e-01,  4.8889e-01, -2.9324e-02,  4.2953e-01,\n",
       "        2.7959e-02, -1.8890e-01, -6.1380e-02, -3.9540e-01, -4.8741e-01,\n",
       "        4.3654e-01,  6.5216e-01,  4.4710e-01,  1.2458e-01,  2.9675e-01,\n",
       "       -2.5380e-01, -2.3289e-01, -2.9197e-01, -7.7551e-02,  2.7413e-01,\n",
       "        1.6340e-02, -4.2268e-01, -4.5374e-01, -7.6281e-02, -4.7951e-01,\n",
       "       -1.4510e-01,  1.8891e-01, -5.7688e-02, -2.5534e-01,  1.4323e-01,\n",
       "        8.4108e-02,  7.0988e-02,  3.1594e-01,  4.1037e-01, -6.4037e-01,\n",
       "       -3.5180e-01, -1.7655e-01,  2.9022e-01,  1.0250e+00,  1.0930e-01,\n",
       "       -1.5884e-01, -3.3384e-02,  5.6136e-01,  3.5435e-03, -5.2904e-01,\n",
       "       -1.5350e-01,  4.1299e-02,  2.6278e-01, -1.1897e-01,  5.5210e-02,\n",
       "       -2.6859e-01,  8.4448e-01, -2.0633e-01, -2.9338e-01,  6.8624e-02,\n",
       "       -2.5637e-01,  3.0861e-01,  1.7523e-01, -2.0131e-01,  1.6259e-01,\n",
       "        1.2639e-01,  9.6538e-02, -1.8028e-01,  1.2792e-01, -6.1417e-01,\n",
       "        1.4095e-01,  6.4169e-01, -1.8990e-01, -7.3014e-01,  3.3776e-01,\n",
       "        3.2964e-01,  5.4036e-02, -1.6196e-01, -3.1810e-01, -1.4762e-01,\n",
       "       -3.3387e-01,  2.0974e-01, -4.4918e-01,  1.5165e-01, -1.0374e-02,\n",
       "        5.0945e-01, -9.3206e-02,  2.8385e-01, -8.6723e-02, -3.2942e-01],\n",
       "      dtype=float32)"
      ]
     },
     "execution_count": 3,
     "metadata": {},
     "output_type": "execute_result"
    }
   ],
   "source": [
    "# Choose the words you wish to compare, and obtain their vectors\n",
    "\n",
    "word1 = nlp.vocab['wolf'].vector\n",
    "word2 = nlp.vocab['dog'].vector\n",
    "word3 = nlp.vocab['cat'].vector\n",
    "\n",
    "word1"
   ]
  },
  {
   "cell_type": "code",
   "execution_count": 8,
   "metadata": {},
   "outputs": [],
   "source": [
    "# Import spatial and define a cosine_similarity function\n",
    "\n",
    "from scipy import spatial\n",
    "\n",
    "cosine_sim = lambda x, y: 1 - spatial.distance.cosine(x,y)\n"
   ]
  },
  {
   "cell_type": "code",
   "execution_count": 5,
   "metadata": {},
   "outputs": [],
   "source": [
    "# Write an expression for vector arithmetic\n",
    "# For example: new_vector = word1 - word2 + word3\n",
    "\n",
    "new_vector = word1 - word2 + word3"
   ]
  },
  {
   "cell_type": "code",
   "execution_count": 6,
   "metadata": {},
   "outputs": [
    {
     "data": {
      "text/plain": [
       "(300,)"
      ]
     },
     "execution_count": 6,
     "metadata": {},
     "output_type": "execute_result"
    }
   ],
   "source": [
    "new_vector.shape"
   ]
  },
  {
   "cell_type": "code",
   "execution_count": 9,
   "metadata": {},
   "outputs": [],
   "source": [
    "# List the top ten closest vectors in the vocabulary to the result of the expression above\n",
    "\n",
    "computed_sims = []\n",
    "\n",
    "for word in nlp.vocab:\n",
    "    if word.has_vector:\n",
    "        if word.is_lower:\n",
    "            if word.is_alpha: #if the word is established\n",
    "                sim = cosine_sim(new_vector, word.vector)\n",
    "                computed_sims.append((word, sim))\n",
    "            \n"
   ]
  },
  {
   "cell_type": "code",
   "execution_count": 10,
   "metadata": {},
   "outputs": [],
   "source": [
    "#grab the most similars\n",
    "computed_sims = sorted(computed_sims, key=lambda item:-item[1])"
   ]
  },
  {
   "cell_type": "code",
   "execution_count": 11,
   "metadata": {},
   "outputs": [
    {
     "data": {
      "text/plain": [
       "['wolf',\n",
       " 'wolves',\n",
       " 'panther',\n",
       " 'lynx',\n",
       " 'owl',\n",
       " 'tiger',\n",
       " 'lion',\n",
       " 'fox',\n",
       " 'cat',\n",
       " 'otter']"
      ]
     },
     "execution_count": 11,
     "metadata": {},
     "output_type": "execute_result"
    }
   ],
   "source": [
    "[w[0].text for w in computed_sims[:10]]"
   ]
  },
  {
   "cell_type": "markdown",
   "metadata": {},
   "source": [
    "#### CHALLENGE: Write a function that takes in 3 strings, performs a-b+c arithmetic, and returns a top-ten result"
   ]
  },
  {
   "cell_type": "code",
   "execution_count": 12,
   "metadata": {},
   "outputs": [],
   "source": [
    "def vector_math(a,b,c):\n",
    "    word1 = nlp.vocab[a].vector\n",
    "    word2 = nlp.vocab[b].vector\n",
    "    word3 = nlp.vocab[b].vector\n",
    "    \n",
    "    new_vector = word1 - word2 + word3\n",
    "    \n",
    "    computed_sims = []\n",
    "\n",
    "    for word in nlp.vocab:\n",
    "        if word.has_vector:\n",
    "            if word.is_lower:\n",
    "                if word.is_alpha: #if the word is established\n",
    "                    sim = cosine_sim(new_vector, word.vector)\n",
    "                    computed_sims.append((word, sim))\n",
    "                    \n",
    "    computed_sims = sorted(computed_sims, key=lambda item:-item[1])\n",
    "    \n",
    "    return [w[0].text for w in computed_sims[:10]]\n",
    "        \n",
    "    \n",
    "    \n",
    "    "
   ]
  },
  {
   "cell_type": "code",
   "execution_count": 13,
   "metadata": {},
   "outputs": [
    {
     "data": {
      "text/plain": [
       "['king',\n",
       " 'kings',\n",
       " 'prince',\n",
       " 'queen',\n",
       " 'throne',\n",
       " 'kingdom',\n",
       " 'lord',\n",
       " 'royal',\n",
       " 'reign',\n",
       " 'princes']"
      ]
     },
     "execution_count": 13,
     "metadata": {},
     "output_type": "execute_result"
    }
   ],
   "source": [
    "# Test the function on known words:\n",
    "vector_math('king','man','woman')"
   ]
  },
  {
   "cell_type": "markdown",
   "metadata": {},
   "source": [
    "## Task #2: Perform VADER Sentiment Analysis on your own review\n",
    "Write code that returns a set of SentimentIntensityAnalyzer polarity scores based on your own written review."
   ]
  },
  {
   "cell_type": "code",
   "execution_count": 14,
   "metadata": {},
   "outputs": [],
   "source": [
    "# Import SentimentIntensityAnalyzer and create an sid object\n",
    "\n",
    "from nltk.sentiment.vader import SentimentIntensityAnalyzer\n",
    "\n",
    "sid = SentimentIntensityAnalyzer()\n"
   ]
  },
  {
   "cell_type": "code",
   "execution_count": 18,
   "metadata": {},
   "outputs": [],
   "source": [
    "# Write a review as one continuous string (multiple sentences are ok)\n",
    "review = 'This movie was absolutely awful. The WORST movie I have ever seen!!!'"
   ]
  },
  {
   "cell_type": "code",
   "execution_count": 19,
   "metadata": {},
   "outputs": [
    {
     "data": {
      "text/plain": [
       "{'neg': 0.507, 'neu': 0.493, 'pos': 0.0, 'compound': -0.8825}"
      ]
     },
     "execution_count": 19,
     "metadata": {},
     "output_type": "execute_result"
    }
   ],
   "source": [
    "# Obtain the sid scores for your review\n",
    "sid.polarity_scores(review)"
   ]
  },
  {
   "cell_type": "markdown",
   "metadata": {},
   "source": [
    "### CHALLENGE: Write a function that takes in a review and returns a score of \"Positive\", \"Negative\" or \"Neutral\""
   ]
  },
  {
   "cell_type": "code",
   "execution_count": 20,
   "metadata": {},
   "outputs": [],
   "source": [
    "def review_rating(string):\n",
    "    \n",
    "    scores = sid.polarity_scores(string)\n",
    "    \n",
    "    if scores['compound'] == 0:\n",
    "        return \"Neutral\"\n",
    "    \n",
    "    elif scores['compound'] > 0:\n",
    "        return \"Positive\"\n",
    "\n",
    "    else:\n",
    "        return \"Negative\"\n",
    "    \n",
    "    \n",
    "    "
   ]
  },
  {
   "cell_type": "code",
   "execution_count": 21,
   "metadata": {},
   "outputs": [
    {
     "data": {
      "text/plain": [
       "'Negative'"
      ]
     },
     "execution_count": 21,
     "metadata": {},
     "output_type": "execute_result"
    }
   ],
   "source": [
    "# Test the function on your review above:\n",
    "review_rating(review)"
   ]
  },
  {
   "cell_type": "markdown",
   "metadata": {},
   "source": [
    "## Great job!"
   ]
  }
 ],
 "metadata": {
  "kernelspec": {
   "display_name": "Python 3 (ipykernel)",
   "language": "python",
   "name": "python3"
  },
  "language_info": {
   "codemirror_mode": {
    "name": "ipython",
    "version": 3
   },
   "file_extension": ".py",
   "mimetype": "text/x-python",
   "name": "python",
   "nbconvert_exporter": "python",
   "pygments_lexer": "ipython3",
   "version": "3.7.15"
  }
 },
 "nbformat": 4,
 "nbformat_minor": 2
}
