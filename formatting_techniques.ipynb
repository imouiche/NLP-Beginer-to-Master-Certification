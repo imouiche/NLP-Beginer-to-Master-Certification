{
 "cells": [
  {
   "cell_type": "code",
   "execution_count": 1,
   "id": "3f26a563",
   "metadata": {},
   "outputs": [
    {
     "name": "stdout",
     "output_type": "stream",
     "text": [
      "My name is jose\n"
     ]
    }
   ],
   "source": [
    "person = \"Inoussa\"\n",
    "print(f\"My name is {person}\")"
   ]
  },
  {
   "cell_type": "code",
   "execution_count": 4,
   "id": "78fc5109",
   "metadata": {},
   "outputs": [
    {
     "name": "stdout",
     "output_type": "stream",
     "text": [
      "my number is 123\n",
      "my number is 0\n"
     ]
    }
   ],
   "source": [
    "d = {'a': 123, 'b':456}\n",
    "mylist = [0,1,2]\n",
    "\n",
    "print(f\"my number is {d['a']}\")\n",
    "print(f\"my number is {mylist[0]}\")"
   ]
  },
  {
   "cell_type": "code",
   "execution_count": 8,
   "id": "a3a15e9f",
   "metadata": {},
   "outputs": [],
   "source": [
    "library = [('Author', 'Topic', 'Pages'), ('Twain', 'Rafting in water alone', 601),('Feynman', 'Physics', 95), ('Hamilton', 'Mythology', 144)]"
   ]
  },
  {
   "cell_type": "code",
   "execution_count": 9,
   "id": "7d8d1646",
   "metadata": {},
   "outputs": [
    {
     "data": {
      "text/plain": [
       "[('Author', 'Topic', 'Pages'),\n",
       " ('Twain', 'Rafting in water alone', 601),\n",
       " ('Feynman', 'Physics', 95),\n",
       " ('Hamilton', 'Mythology', 144)]"
      ]
     },
     "execution_count": 9,
     "metadata": {},
     "output_type": "execute_result"
    }
   ],
   "source": [
    "library"
   ]
  },
  {
   "cell_type": "code",
   "execution_count": 14,
   "id": "ab77ab94",
   "metadata": {},
   "outputs": [
    {
     "name": "stdout",
     "output_type": "stream",
     "text": [
      "Author     Topic                          Pages     \n",
      "Twain      Rafting in water alone                601\n",
      "Feynman    Physics                                95\n",
      "Hamilton   Mythology                             144\n"
     ]
    }
   ],
   "source": [
    "for author, topic, pages in library:\n",
    "    print(f\"{author:{10}} {topic:{30}} {pages:{10}}\")"
   ]
  },
  {
   "cell_type": "code",
   "execution_count": 15,
   "id": "5f6ef886",
   "metadata": {},
   "outputs": [
    {
     "name": "stdout",
     "output_type": "stream",
     "text": [
      "Author     Topic                               Pages\n",
      "Twain      Rafting in water alone                601\n",
      "Feynman    Physics                                95\n",
      "Hamilton   Mythology                             144\n"
     ]
    }
   ],
   "source": [
    "for author, topic, pages in library:\n",
    "    print(f\"{author:{10}} {topic:{30}} {pages:>{10}}\")"
   ]
  },
  {
   "cell_type": "code",
   "execution_count": 16,
   "id": "688326d8",
   "metadata": {},
   "outputs": [
    {
     "name": "stdout",
     "output_type": "stream",
     "text": [
      "Author     Topic                          .....Pages\n",
      "Twain      Rafting in water alone         .......601\n",
      "Feynman    Physics                        ........95\n",
      "Hamilton   Mythology                      .......144\n"
     ]
    }
   ],
   "source": [
    "for author, topic, pages in library:\n",
    "    print(f\"{author:{10}} {topic:{30}} {pages:.>{10}}\")"
   ]
  },
  {
   "cell_type": "code",
   "execution_count": 18,
   "id": "ec85f5f5",
   "metadata": {},
   "outputs": [],
   "source": [
    "#Date formating\n",
    "from datetime import datetime\n",
    "today =  datetime(year=2019, month=2,day=28)"
   ]
  },
  {
   "cell_type": "code",
   "execution_count": 20,
   "id": "b8c67660",
   "metadata": {},
   "outputs": [
    {
     "name": "stdout",
     "output_type": "stream",
     "text": [
      "2019-02-28 00:00:00\n"
     ]
    },
    {
     "data": {
      "text/plain": [
       "datetime.datetime(2019, 2, 28, 0, 0)"
      ]
     },
     "execution_count": 20,
     "metadata": {},
     "output_type": "execute_result"
    }
   ],
   "source": [
    "print(f'{today}')\n",
    "today"
   ]
  },
  {
   "cell_type": "code",
   "execution_count": 21,
   "id": "461f193a",
   "metadata": {},
   "outputs": [
    {
     "name": "stdout",
     "output_type": "stream",
     "text": [
      "February 28, 2019\n"
     ]
    }
   ],
   "source": [
    "#check the python tstrftime web page\n",
    "print(f'{today:%B %d, %Y}')"
   ]
  }
 ],
 "metadata": {
  "kernelspec": {
   "display_name": "Python 3 (ipykernel)",
   "language": "python",
   "name": "python3"
  },
  "language_info": {
   "codemirror_mode": {
    "name": "ipython",
    "version": 3
   },
   "file_extension": ".py",
   "mimetype": "text/x-python",
   "name": "python",
   "nbconvert_exporter": "python",
   "pygments_lexer": "ipython3",
   "version": "3.7.15"
  }
 },
 "nbformat": 4,
 "nbformat_minor": 5
}
